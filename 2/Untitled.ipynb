{
 "cells": [
  {
   "cell_type": "code",
   "execution_count": 49,
   "metadata": {},
   "outputs": [],
   "source": [
    "import pandas as pd"
   ]
  },
  {
   "cell_type": "code",
   "execution_count": 71,
   "metadata": {},
   "outputs": [],
   "source": [
    "import numpy as np"
   ]
  },
  {
   "cell_type": "code",
   "execution_count": 72,
   "metadata": {},
   "outputs": [],
   "source": [
    "import matplotlib.pyplot as plt"
   ]
  },
  {
   "cell_type": "code",
   "execution_count": 73,
   "metadata": {},
   "outputs": [],
   "source": [
    "from scipy.special import logsumexp"
   ]
  },
  {
   "cell_type": "code",
   "execution_count": 74,
   "metadata": {},
   "outputs": [],
   "source": [
    "import scipy as sp\n",
    "import scipy.stats\n",
    "from scipy.stats import multivariate_normal\n"
   ]
  },
  {
   "cell_type": "code",
   "execution_count": 75,
   "metadata": {},
   "outputs": [],
   "source": [
    "df = pd.read_table(\"data2D.txt.dat\")"
   ]
  },
  {
   "cell_type": "code",
   "execution_count": 76,
   "metadata": {},
   "outputs": [
    {
     "data": {
      "text/html": [
       "<div>\n",
       "<style scoped>\n",
       "    .dataframe tbody tr th:only-of-type {\n",
       "        vertical-align: middle;\n",
       "    }\n",
       "\n",
       "    .dataframe tbody tr th {\n",
       "        vertical-align: top;\n",
       "    }\n",
       "\n",
       "    .dataframe thead th {\n",
       "        text-align: right;\n",
       "    }\n",
       "</style>\n",
       "<table border=\"1\" class=\"dataframe\">\n",
       "  <thead>\n",
       "    <tr style=\"text-align: right;\">\n",
       "      <th></th>\n",
       "      <th>0.680300 -0.016300</th>\n",
       "    </tr>\n",
       "  </thead>\n",
       "  <tbody>\n",
       "    <tr>\n",
       "      <th>0</th>\n",
       "      <td>3.809500 0.798500</td>\n",
       "    </tr>\n",
       "  </tbody>\n",
       "</table>\n",
       "</div>"
      ],
      "text/plain": [
       "  0.680300 -0.016300\n",
       "0  3.809500 0.798500"
      ]
     },
     "execution_count": 76,
     "metadata": {},
     "output_type": "execute_result"
    }
   ],
   "source": [
    "df.iloc[0:1,:]"
   ]
  },
  {
   "cell_type": "code",
   "execution_count": 77,
   "metadata": {},
   "outputs": [
    {
     "data": {
      "text/html": [
       "<div>\n",
       "<style scoped>\n",
       "    .dataframe tbody tr th:only-of-type {\n",
       "        vertical-align: middle;\n",
       "    }\n",
       "\n",
       "    .dataframe tbody tr th {\n",
       "        vertical-align: top;\n",
       "    }\n",
       "\n",
       "    .dataframe thead th {\n",
       "        text-align: right;\n",
       "    }\n",
       "</style>\n",
       "<table border=\"1\" class=\"dataframe\">\n",
       "  <thead>\n",
       "    <tr style=\"text-align: right;\">\n",
       "      <th></th>\n",
       "      <th>x1</th>\n",
       "      <th>x2</th>\n",
       "    </tr>\n",
       "  </thead>\n",
       "  <tbody>\n",
       "    <tr>\n",
       "      <th>0</th>\n",
       "      <td>0.6803</td>\n",
       "      <td>-0.0163</td>\n",
       "    </tr>\n",
       "    <tr>\n",
       "      <th>1</th>\n",
       "      <td>3.8095</td>\n",
       "      <td>0.7985</td>\n",
       "    </tr>\n",
       "    <tr>\n",
       "      <th>2</th>\n",
       "      <td>-1.6614</td>\n",
       "      <td>-0.5777</td>\n",
       "    </tr>\n",
       "    <tr>\n",
       "      <th>3</th>\n",
       "      <td>-0.2573</td>\n",
       "      <td>-0.1556</td>\n",
       "    </tr>\n",
       "    <tr>\n",
       "      <th>4</th>\n",
       "      <td>0.6980</td>\n",
       "      <td>0.1746</td>\n",
       "    </tr>\n",
       "    <tr>\n",
       "      <th>...</th>\n",
       "      <td>...</td>\n",
       "      <td>...</td>\n",
       "    </tr>\n",
       "    <tr>\n",
       "      <th>1495</th>\n",
       "      <td>0.7957</td>\n",
       "      <td>0.2181</td>\n",
       "    </tr>\n",
       "    <tr>\n",
       "      <th>1496</th>\n",
       "      <td>1.2801</td>\n",
       "      <td>1.0967</td>\n",
       "    </tr>\n",
       "    <tr>\n",
       "      <th>1497</th>\n",
       "      <td>1.1920</td>\n",
       "      <td>2.2475</td>\n",
       "    </tr>\n",
       "    <tr>\n",
       "      <th>1498</th>\n",
       "      <td>0.4555</td>\n",
       "      <td>0.8846</td>\n",
       "    </tr>\n",
       "    <tr>\n",
       "      <th>1499</th>\n",
       "      <td>0.2725</td>\n",
       "      <td>0.9516</td>\n",
       "    </tr>\n",
       "  </tbody>\n",
       "</table>\n",
       "<p>1500 rows × 2 columns</p>\n",
       "</div>"
      ],
      "text/plain": [
       "          x1      x2\n",
       "0     0.6803 -0.0163\n",
       "1     3.8095  0.7985\n",
       "2    -1.6614 -0.5777\n",
       "3    -0.2573 -0.1556\n",
       "4     0.6980  0.1746\n",
       "...      ...     ...\n",
       "1495  0.7957  0.2181\n",
       "1496  1.2801  1.0967\n",
       "1497  1.1920  2.2475\n",
       "1498  0.4555  0.8846\n",
       "1499  0.2725  0.9516\n",
       "\n",
       "[1500 rows x 2 columns]"
      ]
     },
     "execution_count": 77,
     "metadata": {},
     "output_type": "execute_result"
    }
   ],
   "source": [
    "df = pd.read_csv(\"data2D.txt.dat\", delim_whitespace=True, names=['x1','x2'] )\n",
    "df"
   ]
  },
  {
   "cell_type": "code",
   "execution_count": 78,
   "metadata": {},
   "outputs": [],
   "source": [
    "x_unlabeled = df[[\"x1\", \"x2\"]].values"
   ]
  },
  {
   "cell_type": "code",
   "execution_count": 79,
   "metadata": {},
   "outputs": [
    {
     "data": {
      "text/plain": [
       "array([[ 0.6803, -0.0163],\n",
       "       [ 3.8095,  0.7985],\n",
       "       [-1.6614, -0.5777],\n",
       "       ...,\n",
       "       [ 1.192 ,  2.2475],\n",
       "       [ 0.4555,  0.8846],\n",
       "       [ 0.2725,  0.9516]])"
      ]
     },
     "execution_count": 79,
     "metadata": {},
     "output_type": "execute_result"
    }
   ],
   "source": [
    "x_unlabeled"
   ]
  },
  {
   "cell_type": "code",
   "execution_count": 102,
   "metadata": {},
   "outputs": [],
   "source": [
    "def get_random_psd(n):\n",
    "    x = np.random.normal(0, 1, size=(n, n))\n",
    "    return np.dot(x, x.transpose())\n",
    "\n",
    "\n",
    "def initialize_random_params():\n",
    "    params = {'phi': np.random.uniform(0, 1),\n",
    "              'mu0': np.random.normal(0, 1, size=(2,)),\n",
    "              'mu1': np.random.normal(0, 1, size=(2,)),\n",
    "              'mu2': np.random.normal(0, 1, size=(2,)),\n",
    "              'mu3': np.random.normal(0, 1, size=(2,)),\n",
    "              'sigma0': get_random_psd(2),\n",
    "              'sigma1': get_random_psd(2),\n",
    "              'sigma2': get_random_psd(2),\n",
    "              'sigma3': get_random_psd(2)}\n",
    "    return params"
   ]
  },
  {
   "cell_type": "code",
   "execution_count": 103,
   "metadata": {},
   "outputs": [],
   "source": [
    "def e_step(x, params):\n",
    "    np.log([scipy.stats.multivariate_normal(params[\"mu0\"], params[\"sigma0\"]).pdf(x),\n",
    "            scipy.stats.multivariate_normal(params[\"mu1\"], params[\"sigma1\"]).pdf(x)])\n",
    "    log_p_y_x = np.log([1-params[\"phi\"], params[\"phi\"]])[np.newaxis, ...] + \\\n",
    "                np.log([scipy.stats.multivariate_normal(params[\"mu0\"], params[\"sigma0\"]).pdf(x),\n",
    "            scipy.stats.multivariate_normal(params[\"mu1\"], params[\"sigma1\"]).pdf(x)]).T\n",
    "    log_p_y_x_norm = logsumexp(log_p_y_x, axis=1)\n",
    "    return log_p_y_x_norm, np.exp(log_p_y_x - log_p_y_x_norm[..., np.newaxis])"
   ]
  },
  {
   "cell_type": "code",
   "execution_count": 104,
   "metadata": {},
   "outputs": [],
   "source": [
    "def m_step(x, params):\n",
    "    total_count = x.shape[0]\n",
    "    _, heuristics = e_step(x, params)\n",
    "    heuristic0 = heuristics[:, 0]\n",
    "    heuristic1 = heuristics[:, 1]\n",
    "    sum_heuristic1 = np.sum(heuristic1)\n",
    "    sum_heuristic0 = np.sum(heuristic0)\n",
    "    phi = (sum_heuristic1/total_count)\n",
    "    mu0 = (heuristic0[..., np.newaxis].T.dot(x)/sum_heuristic0).flatten()\n",
    "    mu1 = (heuristic1[..., np.newaxis].T.dot(x)/sum_heuristic1).flatten()\n",
    "    diff0 = x - mu0\n",
    "    sigma0 = diff0.T.dot(diff0 * heuristic0[..., np.newaxis]) / sum_heuristic0\n",
    "    diff1 = x - mu1\n",
    "    sigma1 = diff1.T.dot(diff1 * heuristic1[..., np.newaxis]) / sum_heuristic1\n",
    "    params = {'phi': phi, 'mu0': mu0, 'mu1': mu1, 'sigma0': sigma0, 'sigma1': sigma1}\n",
    "    return params"
   ]
  },
  {
   "cell_type": "code",
   "execution_count": 112,
   "metadata": {},
   "outputs": [],
   "source": [
    "def get_avg_log_likelihood(x, params):\n",
    "    loglikelihood, _ = e_step(x, params)\n",
    "    return np.mean(loglikelihood)\n",
    "\n",
    "\n",
    "def run_em(x, params):\n",
    "    avg_loglikelihoods = []\n",
    "    while True:\n",
    "        avg_loglikelihood = get_avg_log_likelihood(x, params)\n",
    "        avg_loglikelihoods.append(avg_loglikelihood)\n",
    "        if len(avg_loglikelihoods) > 2 and abs(avg_loglikelihoods[-1] - avg_loglikelihoods[-2]) < 0.0001:\n",
    "            break\n",
    "        params = m_step(x_unlabeled, params)\n",
    "    print(\"\\tphi: %s\\n\\tmu_0: %s\\n\\tmu_1: %s\\n\\tsigma_0: %s\\n\\tsigma_1: %s\"\n",
    "               % (params['phi'], params['mu0'], params['mu1'],params['mu2'],params['mu3'], params['sigma0'], params['sigma1']))\n",
    "    _, posterior = e_step(x_unlabeled, params)\n",
    "    forecasts = np.argmax(posterior, axis=1)\n",
    "    return forecasts, posterior, avg_loglikelihoods"
   ]
  },
  {
   "cell_type": "code",
   "execution_count": 113,
   "metadata": {},
   "outputs": [
    {
     "name": "stderr",
     "output_type": "stream",
     "text": [
      "<ipython-input-103-d700745a742c>:2: RuntimeWarning: divide by zero encountered in log\n",
      "  np.log([scipy.stats.multivariate_normal(params[\"mu0\"], params[\"sigma0\"]).pdf(x),\n",
      "<ipython-input-103-d700745a742c>:5: RuntimeWarning: divide by zero encountered in log\n",
      "  np.log([scipy.stats.multivariate_normal(params[\"mu0\"], params[\"sigma0\"]).pdf(x),\n"
     ]
    },
    {
     "ename": "KeyError",
     "evalue": "'mu2'",
     "output_type": "error",
     "traceback": [
      "\u001b[1;31m---------------------------------------------------------------------------\u001b[0m",
      "\u001b[1;31mKeyError\u001b[0m                                  Traceback (most recent call last)",
      "\u001b[1;32m<ipython-input-113-30cb4f89d57f>\u001b[0m in \u001b[0;36m<module>\u001b[1;34m\u001b[0m\n\u001b[0;32m      1\u001b[0m \u001b[0mrandom_params\u001b[0m \u001b[1;33m=\u001b[0m \u001b[0minitialize_random_params\u001b[0m\u001b[1;33m(\u001b[0m\u001b[1;33m)\u001b[0m\u001b[1;33m\u001b[0m\u001b[1;33m\u001b[0m\u001b[0m\n\u001b[1;32m----> 2\u001b[1;33m \u001b[0munsupervised_forecastsforecasts\u001b[0m\u001b[1;33m,\u001b[0m \u001b[0munsupervised_posterior\u001b[0m\u001b[1;33m,\u001b[0m \u001b[0munsupervised_loglikelihoods\u001b[0m \u001b[1;33m=\u001b[0m \u001b[0mrun_em\u001b[0m\u001b[1;33m(\u001b[0m\u001b[0mx_unlabeled\u001b[0m\u001b[1;33m,\u001b[0m \u001b[0mrandom_params\u001b[0m\u001b[1;33m)\u001b[0m\u001b[1;33m\u001b[0m\u001b[1;33m\u001b[0m\u001b[0m\n\u001b[0m\u001b[0;32m      3\u001b[0m \u001b[0mprint\u001b[0m\u001b[1;33m(\u001b[0m\u001b[1;34m\"total steps: \"\u001b[0m\u001b[1;33m,\u001b[0m \u001b[0mlen\u001b[0m\u001b[1;33m(\u001b[0m\u001b[0munsupervised_loglikelihoods\u001b[0m\u001b[1;33m)\u001b[0m\u001b[1;33m)\u001b[0m\u001b[1;33m\u001b[0m\u001b[1;33m\u001b[0m\u001b[0m\n",
      "\u001b[1;32m<ipython-input-112-3ed47a3a447f>\u001b[0m in \u001b[0;36mrun_em\u001b[1;34m(x, params)\u001b[0m\n\u001b[0;32m     13\u001b[0m         \u001b[0mparams\u001b[0m \u001b[1;33m=\u001b[0m \u001b[0mm_step\u001b[0m\u001b[1;33m(\u001b[0m\u001b[0mx_unlabeled\u001b[0m\u001b[1;33m,\u001b[0m \u001b[0mparams\u001b[0m\u001b[1;33m)\u001b[0m\u001b[1;33m\u001b[0m\u001b[1;33m\u001b[0m\u001b[0m\n\u001b[0;32m     14\u001b[0m     print(\"\\tphi: %s\\n\\tmu_0: %s\\n\\tmu_1: %s\\n\\tsigma_0: %s\\n\\tsigma_1: %s\"\n\u001b[1;32m---> 15\u001b[1;33m                % (params['phi'], params['mu0'], params['mu1'],params['mu2'],params['mu3'], params['sigma0'], params['sigma1']))\n\u001b[0m\u001b[0;32m     16\u001b[0m     \u001b[0m_\u001b[0m\u001b[1;33m,\u001b[0m \u001b[0mposterior\u001b[0m \u001b[1;33m=\u001b[0m \u001b[0me_step\u001b[0m\u001b[1;33m(\u001b[0m\u001b[0mx_unlabeled\u001b[0m\u001b[1;33m,\u001b[0m \u001b[0mparams\u001b[0m\u001b[1;33m)\u001b[0m\u001b[1;33m\u001b[0m\u001b[1;33m\u001b[0m\u001b[0m\n\u001b[0;32m     17\u001b[0m     \u001b[0mforecasts\u001b[0m \u001b[1;33m=\u001b[0m \u001b[0mnp\u001b[0m\u001b[1;33m.\u001b[0m\u001b[0margmax\u001b[0m\u001b[1;33m(\u001b[0m\u001b[0mposterior\u001b[0m\u001b[1;33m,\u001b[0m \u001b[0maxis\u001b[0m\u001b[1;33m=\u001b[0m\u001b[1;36m1\u001b[0m\u001b[1;33m)\u001b[0m\u001b[1;33m\u001b[0m\u001b[1;33m\u001b[0m\u001b[0m\n",
      "\u001b[1;31mKeyError\u001b[0m: 'mu2'"
     ]
    }
   ],
   "source": [
    "random_params = initialize_random_params()\n",
    "unsupervised_forecastsforecasts, unsupervised_posterior, unsupervised_loglikelihoods = run_em(x_unlabeled, random_params)\n",
    "print(\"total steps: \", len(unsupervised_loglikelihoods))\n"
   ]
  },
  {
   "cell_type": "code",
   "execution_count": 114,
   "metadata": {},
   "outputs": [
    {
     "ename": "NameError",
     "evalue": "name 'params' is not defined",
     "output_type": "error",
     "traceback": [
      "\u001b[1;31m---------------------------------------------------------------------------\u001b[0m",
      "\u001b[1;31mNameError\u001b[0m                                 Traceback (most recent call last)",
      "\u001b[1;32m<ipython-input-114-bfd368200e6b>\u001b[0m in \u001b[0;36m<module>\u001b[1;34m\u001b[0m\n\u001b[1;32m----> 1\u001b[1;33m \u001b[0mparams\u001b[0m\u001b[1;33m\u001b[0m\u001b[1;33m\u001b[0m\u001b[0m\n\u001b[0m",
      "\u001b[1;31mNameError\u001b[0m: name 'params' is not defined"
     ]
    }
   ],
   "source": [
    "params"
   ]
  },
  {
   "cell_type": "code",
   "execution_count": 100,
   "metadata": {},
   "outputs": [
    {
     "data": {
      "text/plain": [
       "Text(0.5, 1.0, 'unsupervised log likelihoods')"
      ]
     },
     "execution_count": 100,
     "metadata": {},
     "output_type": "execute_result"
    },
    {
     "data": {
      "image/png": "[encoded data removed]",
      "text/plain": [
       "<Figure size 432x288 with 1 Axes>"
      ]
     },
     "metadata": {
      "needs_background": "light"
     },
     "output_type": "display_data"
    }
   ],
   "source": [
    "plt.plot(unsupervised_loglikelihoods)\n",
    "plt.title(\"unsupervised log likelihoods\")\n",
    "#plt.savefig(\"unsupervised.png\")\n",
    "#plt.close()"
   ]
  },
  {
   "cell_type": "code",
   "execution_count": 101,
   "metadata": {},
   "outputs": [
    {
     "data": {
      "text/plain": [
       "[-5.754196673865747,\n",
       " -3.417455179606569,\n",
       " -3.3996270548548586,\n",
       " -3.3865801267924853,\n",
       " -3.3756019463214835,\n",
       " -3.3626384460733085,\n",
       " -3.345841910487601,\n",
       " -3.325074350699866,\n",
       " -3.2976324067882743,\n",
       " -3.2588373224708023,\n",
       " -3.208530879851638,\n",
       " -3.155653609143889,\n",
       " -3.107318349581607,\n",
       " -3.06810571147126,\n",
       " -3.043342740110935,\n",
       " -3.034837259721403,\n",
       " -3.0336945689528103,\n",
       " -3.033521080674623,\n",
       " -3.0334736648111296]"
      ]
     },
     "execution_count": 101,
     "metadata": {},
     "output_type": "execute_result"
    }
   ],
   "source": [
    "unsupervised_loglikelihoods"
   ]
  },
  {
   "cell_type": "code",
   "execution_count": null,
   "metadata": {},
   "outputs": [],
   "source": []
  }
 ],
 "metadata": {
  "kernelspec": {
   "display_name": "Python 3",
   "language": "python",
   "name": "python3"
  },
  "language_info": {
   "codemirror_mode": {
    "name": "ipython",
    "version": 3
   },
   "file_extension": ".py",
   "mimetype": "text/x-python",
   "name": "python",
   "nbconvert_exporter": "python",
   "pygments_lexer": "ipython3",
   "version": "3.8.5"
  }
 },
 "nbformat": 4,
 "nbformat_minor": 4
}
